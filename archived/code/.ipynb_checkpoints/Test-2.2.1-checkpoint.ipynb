{
 "cells": [
  {
   "cell_type": "code",
   "execution_count": 9,
   "id": "young-serial",
   "metadata": {},
   "outputs": [],
   "source": [
    "!./test_pycode/main.py"
   ]
  },
  {
   "cell_type": "code",
   "execution_count": 14,
   "id": "dated-framing",
   "metadata": {},
   "outputs": [
    {
     "data": {
      "text/html": [
       "<video controls src=\"test_2.1.5_result_1.mp4\" width=680 >\n",
       "</video>\n"
      ],
      "text/plain": [
       "<IPython.core.display.HTML object>"
      ]
     },
     "metadata": {},
     "output_type": "display_data"
    }
   ],
   "source": [
    "%%HTML\n",
    "<video controls src=\"test_2.1.5_result_1.mp4\" width=680 >\n",
    "</video>"
   ]
  }
 ],
 "metadata": {
  "kernelspec": {
   "display_name": "Python 3",
   "language": "python",
   "name": "python3"
  },
  "language_info": {
   "codemirror_mode": {
    "name": "ipython",
    "version": 3
   },
   "file_extension": ".py",
   "mimetype": "text/x-python",
   "name": "python",
   "nbconvert_exporter": "python",
   "pygments_lexer": "ipython3",
   "version": "3.8.5"
  }
 },
 "nbformat": 4,
 "nbformat_minor": 5
}
