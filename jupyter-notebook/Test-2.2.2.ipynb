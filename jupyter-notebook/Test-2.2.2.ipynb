{
 "cells": [
  {
   "cell_type": "code",
   "execution_count": 5,
   "id": "young-serial",
   "metadata": {},
   "outputs": [],
   "source": [
    "from test_pycode.Game_new import Game\n",
    "import test_pycode.Animation as Ani\n",
    "import matplotlib.pyplot as plt \n",
    "import numpy as np\n",
    "\n",
    "G = Game()\n",
    "State = G.getInitState()\n",
    "State_History = []\n",
    "State_History.append( State )\n",
    "\n",
    "\n",
    "for i in range(G.time_N-1):\n",
    "    State = G.getNextState( State, G.getRandomEffect() )\n",
    "    State_History.append( State )\n",
    "\n",
    "plt.close()"
   ]
  },
  {
   "cell_type": "code",
   "execution_count": 6,
   "id": "qualified-advocate",
   "metadata": {},
   "outputs": [],
   "source": [
    "Ani.t = G.t\n",
    "Ani.State_History = State_History\n",
    "\n",
    "Ani.plot_settings()\n",
    "Ani.ani_to_video('./test_pycode/result_1.mp4',1000)"
   ]
  },
  {
   "cell_type": "code",
   "execution_count": 7,
   "id": "dated-framing",
   "metadata": {},
   "outputs": [
    {
     "data": {
      "text/html": [
       "<video controls src=\"./test_pycode/result_1.mp4\" width=680 >\n",
       "</video>\n"
      ],
      "text/plain": [
       "<IPython.core.display.HTML object>"
      ]
     },
     "metadata": {},
     "output_type": "display_data"
    }
   ],
   "source": [
    "%%HTML\n",
    "<video controls src=\"./test_pycode/result_1.mp4\" width=680 >\n",
    "</video>"
   ]
  },
  {
   "cell_type": "code",
   "execution_count": null,
   "id": "animated-equation",
   "metadata": {},
   "outputs": [],
   "source": []
  }
 ],
 "metadata": {
  "kernelspec": {
   "display_name": "Python 3",
   "language": "python",
   "name": "python3"
  },
  "language_info": {
   "codemirror_mode": {
    "name": "ipython",
    "version": 3
   },
   "file_extension": ".py",
   "mimetype": "text/x-python",
   "name": "python",
   "nbconvert_exporter": "python",
   "pygments_lexer": "ipython3",
   "version": "3.8.5"
  }
 },
 "nbformat": 4,
 "nbformat_minor": 5
}
